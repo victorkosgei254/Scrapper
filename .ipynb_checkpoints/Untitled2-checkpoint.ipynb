{
 "cells": [
  {
   "cell_type": "code",
   "execution_count": 44,
   "id": "7488c412",
   "metadata": {},
   "outputs": [
    {
     "data": {
      "text/plain": [
       "[48.8093, 54.5776]"
      ]
     },
     "execution_count": 44,
     "metadata": {},
     "output_type": "execute_result"
    }
   ],
   "source": [
    "def solveSimultaneous(a,b,c,d,e,f):\n",
    "    determinant = (a*e) - (b*d)\n",
    "    x=round(((e*c)+(-1*b*f))/determinant,4)\n",
    "    y= round(((a*f) + (-1* d*c))/determinant,4)\n",
    "    return [x,y]\n",
    "solveSimultaneous(1.52,-0.26,60,-0.26,2.248,110)"
   ]
  },
  {
   "cell_type": "code",
   "execution_count": 51,
   "id": "9a15e443",
   "metadata": {},
   "outputs": [
    {
     "name": "stdout",
     "output_type": "stream",
     "text": [
      "Assuming there are no losses and plants are loaded equally\n",
      "285.4086 41.6988 25.0965 2.2039 66.7953 102.2039\n",
      "- - - - - - - - - - - - - - - - - - - - - - \n",
      "\n",
      "291.4239 66.2018 32.5539 4.771 98.7557 104.771\n",
      "- - - - - - - - - - - - - - - - - - - - - - \n",
      "\n",
      "292.7896 70.1834 33.7408 5.2899 103.9242 105.2899\n",
      "- - - - - - - - - - - - - - - - - - - - - - \n",
      "\n",
      "293.1128 71.0803 34.0072 5.4107 105.0875 105.4107\n",
      "- - - - - - - - - - - - - - - - - - - - - - \n",
      "\n",
      "293.19 71.2922 34.0701 5.4395 105.3623 105.4395\n",
      "- - - - - - - - - - - - - - - - - - - - - - \n",
      "\n",
      "293.2085 71.3428 34.0851 5.4464 105.4279 105.4464\n",
      "- - - - - - - - - - - - - - - - - - - - - - \n",
      "\n",
      "293.2129 71.3549 34.0887 5.448 105.4436 105.448\n",
      "- - - - - - - - - - - - - - - - - - - - - - \n",
      "\n"
     ]
    }
   ],
   "source": [
    "def resultProducer(p1,c1,p2,c2,b11,b12,b21,b22,pd,accuracy):\n",
    "    print(\"ITERATION ENGINE\")\n",
    "    lmda = p1*(pd/2) + c1\n",
    "    error = 2;\n",
    "    while(error>accuracy):\n",
    "        [a,b,c,d,e,f] = [p1*(1+2*lmda*b11),2*p2*b12*lmda,lmda-c1,lmda*2*b21*p1,p2*(1+2*b22*lmda),lmda-c2]\n",
    "        [P1,P2] = solveSimultaneous(a,b,c,d,e,f)\n",
    "        PL = round(P1*(b11*P1 + b12*P2)+ P2*(b21*P1+b22*P2),4)\n",
    "        PDPL = round(pd+PL,4)\n",
    "        P1P2 = round(P1+P2,4)\n",
    "        lmda = lmda + (PDPL-P1P2)\n",
    "        error = PDPL-P1P2\n",
    "        print(lmda,P1,P2,PL,P1P2,PDPL)\n",
    "        print(\"- - - - - - - - - - - - - - - - - - - - - - \")\n",
    "        print()\n",
    "       \n",
    "\n",
    "    return [a,b,c,d,e,f]\n",
    "    \n",
    "[a,b,c,d,e,f] = resultProducer(1,200,2,150,0.001,-0.0005,-0.0005,0.0024,100,0.01)\n"
   ]
  },
  {
   "cell_type": "code",
   "execution_count": 26,
   "id": "c2192eff",
   "metadata": {},
   "outputs": [
    {
     "name": "stdout",
     "output_type": "stream",
     "text": [
      "48.8093 54.5776\n",
      "48.8093 54.5776\n",
      "0.001 -0.0005 -0.0005 0.0024\n",
      "0.0215 0.1066\n",
      "106.867367927034 103.3869\n",
      "3.480467927033999\n"
     ]
    }
   ],
   "source": [
    "def optimalDispatch(a,b,c,d,e,f,b11,b12,b21,b22,lmda,pd,accuracy):\n",
    "    #solving for power loss \n",
    "    \n",
    "    [x,y] = solveSimultaneous(a,b,c,d,e,f)\n",
    "    print(x,y)\n",
    "    print(b11,b12,b21,b22)\n",
    "    ans1 = round((b11*x + b12*y),4)\n",
    "    ans2 = round((b21*x+b22*y),4)\n",
    "    print(ans1,ans2)\n",
    "    PL = round(x*(b11*x + b12*y)+ y*(b21*x+b22*y),4)\n",
    "    PDPL = pd + PL\n",
    "    P1P2 = x+y\n",
    "    print(PDPL,P1P2)\n",
    "    print(PDPL - P1P2)\n",
    "    \n",
    "optimalDispatch(1.52,-0.26,60,-0.26,2.248,110,0.001,-0.0005,-0.0005,0.0024,260,100,0)"
   ]
  },
  {
   "cell_type": "code",
   "execution_count": null,
   "id": "a1089bdb",
   "metadata": {},
   "outputs": [],
   "source": []
  }
 ],
 "metadata": {
  "kernelspec": {
   "display_name": "Python 3 (ipykernel)",
   "language": "python",
   "name": "python3"
  },
  "language_info": {
   "codemirror_mode": {
    "name": "ipython",
    "version": 3
   },
   "file_extension": ".py",
   "mimetype": "text/x-python",
   "name": "python",
   "nbconvert_exporter": "python",
   "pygments_lexer": "ipython3",
   "version": "3.9.7"
  }
 },
 "nbformat": 4,
 "nbformat_minor": 5
}
